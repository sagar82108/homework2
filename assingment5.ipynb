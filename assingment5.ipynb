{
 "cells": [
  {
   "cell_type": "code",
   "execution_count": null,
   "id": "7e311ca6-28a3-4a74-8dc6-720a918c16a9",
   "metadata": {},
   "outputs": [],
   "source": [
    "#1 ans) python program to calcualte grade based on percentage entered by user\n",
    "\n",
    "\n",
    "per=int(input(\"enter your percentage:\"))\n",
    "if per>90:\n",
    "    grade='A'\n",
    "elif per>80 and per<=90:\n",
    "    grade='B'\n",
    "elif per>=60 and per<=80:\n",
    "    grade='C'\n",
    "elif per<60:\n",
    "    grade='D'\n",
    "print(\"your grade is \",grade)"
   ]
  },
  {
   "cell_type": "code",
   "execution_count": null,
   "id": "1b8a7fbd-253b-4875-95e9-93515429fc2a",
   "metadata": {},
   "outputs": [],
   "source": [
    "#2 ans ) python program to calculate tax on cost price of bike entered by user\n",
    "\n",
    "bike_cost=int(input(\"enter the price of bike:\"))\n",
    "if bike_cost>100000:\n",
    "    tax='15%'\n",
    "elif bike_cost>50000 and bike_cost<=100000:\n",
    "    tax='10%'\n",
    "elif bike_cost<=50000:\n",
    "    tax='5'\n",
    "print(\"tax on bike is \",tax)"
   ]
  },
  {
   "cell_type": "code",
   "execution_count": null,
   "id": "029bebe5-8501-4447-a8d6-4bbe9b9af663",
   "metadata": {},
   "outputs": [],
   "source": [
    "#3 ans) python program to accept city and display famous monument of that city\n",
    "\n",
    "city_name=str(input(\"enter the city name:\"))\n",
    "if city_name==\"Delhi\":\n",
    "    fam_monu=\"Red fort\"\n",
    "elif city_name==\"Agra\":\n",
    "    fam_monu=\"Taj mahal\"\n",
    "elif city_name==\"Jaipur\":\n",
    "    fam_monu=\"Jal mahal\"\n",
    "print(\"The famous monument of \",city_name,\"is\",fam_monu)"
   ]
  },
  {
   "cell_type": "code",
   "execution_count": null,
   "id": "e57e7506-427f-446f-bad0-12252b2d8cd3",
   "metadata": {},
   "outputs": [],
   "source": [
    "#4 ans) python program to find how many times a given number is divisiable by 3\n",
    "\n",
    "num=int(input(\"enter the number\"))\n",
    "count=0\n",
    "while(num>=10):\n",
    "    num=num/3\n",
    "    count=1+count\n",
    "print(\"The number of times given number is divisable 3 is \",count)    \n",
    "    \n",
    "    \n"
   ]
  },
  {
   "cell_type": "code",
   "execution_count": null,
   "id": "3f9ef456-3b2c-4eab-a1a4-8d91e6e56027",
   "metadata": {},
   "outputs": [],
   "source": [
    "\"\"\"5 ans) A while loop is a control flow statement in programming that repeatedly \n",
    "        executes a block of code as long as a specified condition is true.\n",
    "        While loops are often used when you want to repeat a block of code a certain number of times or until a certain condition is met.\n",
    "        For example, \n",
    "        if you wanted to print the numbers from 1 to 10, you could use a while loop like this\"\"\"\n",
    "i = 1\n",
    "while i <= 10:\n",
    "    print(i)\n",
    "    i = i + 1\n",
    "\n"
   ]
  },
  {
   "cell_type": "code",
   "execution_count": null,
   "id": "31f84c28-2000-4a10-9f5f-5d481cbf6ea2",
   "metadata": {},
   "outputs": [],
   "source": [
    "#6 ans) python program to print pattern using nested while loop\n",
    "i=0\n",
    "j=0\n",
    "a=['@','$','#']\n",
    "while(i<3):\n",
    "    j=0\n",
    "    while(j<3):\n",
    "        j=j+1\n",
    "        print(a[i])\n",
    "    i=i+1\n",
    "\n",
    "\n",
    "\n",
    "    \n",
    "    "
   ]
  },
  {
   "cell_type": "code",
   "execution_count": null,
   "id": "47fd1cc6-b61f-4af0-9f11-739cf3e8fe8f",
   "metadata": {},
   "outputs": [],
   "source": [
    "#7ans) python program to print 10 to 1 using while loop\n",
    "i = 10\n",
    "while i >= 1:\n",
    "    print(i)\n",
    "    i -= 1\n"
   ]
  },
  {
   "cell_type": "code",
   "execution_count": null,
   "id": "d255f45f-50b4-4259-81e9-699ac2b2dc3a",
   "metadata": {},
   "outputs": [],
   "source": [
    "#8 ans)  python program to print 10 to 1 using while loop\n",
    "i = 10\n",
    "while i >= 1:\n",
    "    print(i)\n",
    "    i -= 1"
   ]
  },
  {
   "cell_type": "code",
   "execution_count": null,
   "id": "f2034d81-fffe-45a5-af1d-b4868c792a61",
   "metadata": {},
   "outputs": [],
   "source": []
  }
 ],
 "metadata": {
  "kernelspec": {
   "display_name": "Python 3 (ipykernel)",
   "language": "python",
   "name": "python3"
  },
  "language_info": {
   "codemirror_mode": {
    "name": "ipython",
    "version": 3
   },
   "file_extension": ".py",
   "mimetype": "text/x-python",
   "name": "python",
   "nbconvert_exporter": "python",
   "pygments_lexer": "ipython3",
   "version": "3.10.8"
  }
 },
 "nbformat": 4,
 "nbformat_minor": 5
}
